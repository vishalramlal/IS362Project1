{
 "cells": [
  {
   "cell_type": "markdown",
   "id": "ea50b468",
   "metadata": {},
   "source": [
    "## IS362 Project 1 \n",
    "\n",
    "Comparing arrival delay data for two airlines based on data from a CSV file, using pandas. Here is the data given:\n",
    "\n",
    "![image](./Project1Data.png)"
   ]
  },
  {
   "cell_type": "markdown",
   "id": "d0291150",
   "metadata": {},
   "source": [
    "##### The data has been restructured into a better format in a CSV file to work with:\n",
    "\n",
    "|Destination |AlaskaOntime |AlaskaDelay  |AMWestOntime|AMWestDelay  |\n",
    "|------------|-------------|-------------|------------|-------------|\n",
    "|Los Angeles |497          |62           |694         |117          |\n",
    "|Phoenix     |221          |12           |4840\t      |415          |\n",
    "|San Diego   |212          |20           |383         |65           |\n",
    "|San Francisco|503         |102          |320         |129          |\n",
    "|Seattle \t |1841\t       |305\t         |201\t      |61           |\n",
    "\n"
   ]
  },
  {
   "cell_type": "markdown",
   "id": "dfde34b7",
   "metadata": {},
   "source": [
    "##### Before beginning to process the data, pandas must first be imported:"
   ]
  },
  {
   "cell_type": "code",
   "execution_count": null,
   "id": "657e71b5",
   "metadata": {},
   "outputs": [],
   "source": [
    "import pandas as pd"
   ]
  },
  {
   "cell_type": "markdown",
   "id": "8db697ac",
   "metadata": {},
   "source": [
    "##### Now the CSV file with the data will be imported as a DataFrame:"
   ]
  },
  {
   "cell_type": "code",
   "execution_count": null,
   "id": "adcd0850",
   "metadata": {},
   "outputs": [],
   "source": [
    "dframe = pd.read_csv('./Project1CSV.csv')"
   ]
  },
  {
   "cell_type": "markdown",
   "id": "76dffaac",
   "metadata": {},
   "source": [
    "##### Now the flights delayed for both the airlines can be calculated. It will be expressed a percentage by adding the number of fights delayed in all destinations divided by the total number of on-time flights:"
   ]
  },
  {
   "cell_type": "code",
   "execution_count": null,
   "id": "6dc70b23",
   "metadata": {},
   "outputs": [],
   "source": [
    "dframe.AlaskaDelay.sum()/(dframe.AlaskaOntime.sum() + dframe.AlaskaDelay.sum())*100"
   ]
  },
  {
   "cell_type": "code",
   "execution_count": null,
   "id": "da29f7ed",
   "metadata": {},
   "outputs": [],
   "source": [
    "dframe.AMWestDelay.sum()/(dframe.AMWestOntime.sum() + dframe.AMWestDelay.sum())*100"
   ]
  },
  {
   "cell_type": "markdown",
   "id": "f6899fcd",
   "metadata": {},
   "source": [
    "### Result\n",
    "#### The results show that Alaska Airlines has delays on 13% its flights across the five destination cities. AMWest Airlines however, shows 10% of flights delayed across all five destination cities. AMWest seems to have fewer delayed flights than Alaska."
   ]
  }
 ],
 "metadata": {
  "kernelspec": {
   "display_name": "Python 3",
   "language": "python",
   "name": "python3"
  },
  "language_info": {
   "codemirror_mode": {
    "name": "ipython",
    "version": 3
   },
   "file_extension": ".py",
   "mimetype": "text/x-python",
   "name": "python",
   "nbconvert_exporter": "python",
   "pygments_lexer": "ipython3",
   "version": "3.8.10"
  }
 },
 "nbformat": 4,
 "nbformat_minor": 5
}
